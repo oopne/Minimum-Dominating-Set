{
 "cells": [
  {
   "cell_type": "code",
   "execution_count": 1,
   "id": "0886bd4b-8535-4256-8df9-93534e8c8848",
   "metadata": {},
   "outputs": [],
   "source": [
    "import numpy as np\n",
    "import pandas as pd\n",
    "import matplotlib\n",
    "import matplotlib.pyplot as plt\n",
    "import seaborn as sns"
   ]
  },
  {
   "cell_type": "code",
   "execution_count": 2,
   "id": "6f2b37e7-4a2c-4524-9a24-df3fba8c9c5f",
   "metadata": {},
   "outputs": [],
   "source": [
    "def add_row(stats, graph, sample):\n",
    "    mean = sample.mean()\n",
    "    median = np.median(sample)\n",
    "    quantile0_25 = np.quantile(sample, 0.25)\n",
    "    quantile0_75 = np.quantile(sample, 0.75)\n",
    "\n",
    "    # table = pd.DataFrame([[mean, median, quantile0_25, quantile0_75]],\n",
    "    #     columns=['Среднее', 'Медиана', '0.25-квантиль', '0.75-квантиль'])\n",
    "    # blank_index = [''] * len(table)\n",
    "    # table.index = blank_index\n",
    "\n",
    "    stats.append([graph, mean, median, quantile0_25, quantile0_75])"
   ]
  },
  {
   "cell_type": "markdown",
   "id": "a5f5a87d-0dd5-42bb-bbf4-f088b8f79bd0",
   "metadata": {},
   "source": [
    "# Базовый алгоритм"
   ]
  },
  {
   "cell_type": "code",
   "execution_count": 3,
   "id": "7b642d29-b724-4ef9-8dc0-af14e8893457",
   "metadata": {},
   "outputs": [],
   "source": [
    "basic_stats = []"
   ]
  },
  {
   "cell_type": "markdown",
   "id": "2245e890-d164-417c-bd94-81186026e5fd",
   "metadata": {},
   "source": [
    "## Случайные графы"
   ]
  },
  {
   "cell_type": "markdown",
   "id": "a11ce28f-e077-4a8e-a3c7-3bcba0960e93",
   "metadata": {},
   "source": [
    "## 20 вершин"
   ]
  },
  {
   "cell_type": "markdown",
   "id": "976a7ba0-474f-41d9-94c4-ac247799eec8",
   "metadata": {},
   "source": [
    "### G(20, 1/10)"
   ]
  },
  {
   "cell_type": "code",
   "execution_count": 4,
   "id": "086b576e-641a-4090-9755-04d8a4c9246f",
   "metadata": {},
   "outputs": [],
   "source": [
    "sample = np.loadtxt('basic_algo/g20_01_0')\n",
    "add_row(basic_stats, 'G(20, 1/10)', sample)"
   ]
  },
  {
   "cell_type": "markdown",
   "id": "0824c962-ebb3-469e-90c5-4b276cc8423e",
   "metadata": {},
   "source": [
    "### G(20, 1/5)"
   ]
  },
  {
   "cell_type": "code",
   "execution_count": 5,
   "id": "6171d9ac-288a-4ee9-bd7d-c986c8076801",
   "metadata": {},
   "outputs": [],
   "source": [
    "sample = np.loadtxt('basic_algo/g20_02_0')\n",
    "add_row(basic_stats, 'G(20, 1/5)', sample)"
   ]
  },
  {
   "cell_type": "markdown",
   "id": "a6205ae6-405e-4c2d-b50b-09e8b6e9322f",
   "metadata": {},
   "source": [
    "### G(20, 3/10)"
   ]
  },
  {
   "cell_type": "code",
   "execution_count": 6,
   "id": "ad0cfd4f-2f18-492d-90c9-0a69d7975e53",
   "metadata": {},
   "outputs": [],
   "source": [
    "sample = np.loadtxt('basic_algo/g20_03_0')\n",
    "add_row(basic_stats, 'G(20, 3/10)', sample)"
   ]
  },
  {
   "cell_type": "markdown",
   "id": "e2b48996-e4c5-415b-84db-cdc426810b40",
   "metadata": {},
   "source": [
    "### G(20, 1/2)"
   ]
  },
  {
   "cell_type": "code",
   "execution_count": 7,
   "id": "ad9f15ab-8af1-4dc0-80bc-8ffbf900bf18",
   "metadata": {},
   "outputs": [],
   "source": [
    "sample = np.loadtxt('basic_algo/g20_05_0')\n",
    "add_row(basic_stats, 'G(20, 1/2)', sample)"
   ]
  },
  {
   "cell_type": "markdown",
   "id": "05e13c96-2250-4016-acd0-1e0d715c91a3",
   "metadata": {},
   "source": [
    "### G(20, 7/10)"
   ]
  },
  {
   "cell_type": "code",
   "execution_count": 8,
   "id": "dcb02556-61e1-4709-af97-0ce583d48079",
   "metadata": {},
   "outputs": [],
   "source": [
    "sample = np.loadtxt('basic_algo/g20_07_0')\n",
    "add_row(basic_stats, 'G(20, 7/10)', sample)"
   ]
  },
  {
   "cell_type": "markdown",
   "id": "ee80e57c-ce9a-4d66-8d59-4dd9bb9e09f1",
   "metadata": {},
   "source": [
    "## 40 вершин"
   ]
  },
  {
   "cell_type": "markdown",
   "id": "19e7ccb4-3a1c-4466-ac2d-7454393e8e1b",
   "metadata": {},
   "source": [
    "### G(40, 1/10)"
   ]
  },
  {
   "cell_type": "code",
   "execution_count": 9,
   "id": "368eb316-4dce-4b55-a72c-6b5d10672c68",
   "metadata": {},
   "outputs": [],
   "source": [
    "sample = np.loadtxt('basic_algo/g40_01_0')\n",
    "add_row(basic_stats, 'G(40, 1/10)', sample)"
   ]
  },
  {
   "cell_type": "markdown",
   "id": "d166aeb5-a3f3-48b0-82aa-4e0cf07cacff",
   "metadata": {},
   "source": [
    "### G(40, 1/5)"
   ]
  },
  {
   "cell_type": "code",
   "execution_count": 10,
   "id": "735d0264-ecd3-40f2-b509-a32d22e1f0b1",
   "metadata": {},
   "outputs": [],
   "source": [
    "sample = np.loadtxt('basic_algo/g40_02_0')\n",
    "add_row(basic_stats, 'G(40, 1/5)', sample)"
   ]
  },
  {
   "cell_type": "markdown",
   "id": "36b50177-3585-4e6d-af22-7c5744c4f7dc",
   "metadata": {},
   "source": [
    "### G(40, 1/2)"
   ]
  },
  {
   "cell_type": "code",
   "execution_count": 11,
   "id": "66c7a7f5-fa0e-4a5c-999f-a1ca4c3f9d65",
   "metadata": {},
   "outputs": [],
   "source": [
    "sample = np.loadtxt('basic_algo/g40_05_0')\n",
    "add_row(basic_stats, 'G(40, 1/2)', sample)"
   ]
  },
  {
   "cell_type": "markdown",
   "id": "1d7da219-3353-45af-8db0-9361b1401538",
   "metadata": {},
   "source": [
    "### G(40, 7/10)"
   ]
  },
  {
   "cell_type": "code",
   "execution_count": 12,
   "id": "acecc050-2859-4700-b231-73bc08f538ba",
   "metadata": {},
   "outputs": [],
   "source": [
    "sample = np.loadtxt('basic_algo/g40_07_0')\n",
    "add_row(basic_stats, 'G(40, 7/10)', sample)"
   ]
  },
  {
   "cell_type": "markdown",
   "id": "dab8770b-5b04-446a-8b60-3cac15b0a492",
   "metadata": {},
   "source": [
    "## 50 вершин"
   ]
  },
  {
   "cell_type": "markdown",
   "id": "5552e31f-901e-4303-9d37-60d68e843dfe",
   "metadata": {},
   "source": [
    "### G(50, 1/10)"
   ]
  },
  {
   "cell_type": "code",
   "execution_count": 13,
   "id": "5fa27f3a-0e73-4555-a417-ded35ac4e68c",
   "metadata": {},
   "outputs": [],
   "source": [
    "sample = np.loadtxt('basic_algo/g50_01_0')\n",
    "add_row(basic_stats, 'G(50, 1/10)', sample)"
   ]
  },
  {
   "cell_type": "markdown",
   "id": "6e98c8bc-ce7c-4687-8c6e-9856acac6346",
   "metadata": {},
   "source": [
    "### G(50, 1/5)"
   ]
  },
  {
   "cell_type": "code",
   "execution_count": 14,
   "id": "63740e32-0a6a-4b05-a5b3-9f24a6e61266",
   "metadata": {},
   "outputs": [],
   "source": [
    "sample = np.loadtxt('basic_algo/g50_02_0')\n",
    "add_row(basic_stats, 'G(50, 1/5)', sample)"
   ]
  },
  {
   "cell_type": "markdown",
   "id": "bc4233d6-7f8b-4042-9733-7424b9665920",
   "metadata": {},
   "source": [
    "### G(50, 3/10)"
   ]
  },
  {
   "cell_type": "code",
   "execution_count": 15,
   "id": "13fd3ac3-e4af-45eb-a138-67dfe5b83211",
   "metadata": {},
   "outputs": [],
   "source": [
    "sample = np.loadtxt('basic_algo/g50_03_0')\n",
    "add_row(basic_stats, 'G(50, 3/10)', sample)"
   ]
  },
  {
   "cell_type": "markdown",
   "id": "648b54b0-691a-4724-8065-f49e825586ae",
   "metadata": {},
   "source": [
    "### G(50, 1/2)"
   ]
  },
  {
   "cell_type": "code",
   "execution_count": 16,
   "id": "64306daa-87ae-4bbc-b8f5-ceaf592f4195",
   "metadata": {},
   "outputs": [],
   "source": [
    "sample = np.loadtxt('basic_algo/g50_05_0')\n",
    "add_row(basic_stats, 'G(50, 1/2)', sample)"
   ]
  },
  {
   "cell_type": "markdown",
   "id": "38b4a882-2d13-4724-8687-891bf0a568ac",
   "metadata": {},
   "source": [
    "### G(50, 7/10)"
   ]
  },
  {
   "cell_type": "code",
   "execution_count": 17,
   "id": "642ff0b4-d1c1-48c2-b65a-61c68158fdd7",
   "metadata": {},
   "outputs": [],
   "source": [
    "sample = np.loadtxt('basic_algo/g50_07_0')\n",
    "add_row(basic_stats, 'G(50, 7/10)', sample)"
   ]
  },
  {
   "cell_type": "markdown",
   "id": "677c5f85-0331-45dd-9e75-b7a0873ea36a",
   "metadata": {},
   "source": [
    "## 60 вершин"
   ]
  },
  {
   "cell_type": "markdown",
   "id": "4929bd24-5f8d-464b-bf4b-a2276426d922",
   "metadata": {},
   "source": [
    "### G(60, 1/10)"
   ]
  },
  {
   "cell_type": "code",
   "execution_count": 18,
   "id": "c6efd81a-5445-40e2-9c67-be956b93522b",
   "metadata": {},
   "outputs": [],
   "source": [
    "sample = np.loadtxt('basic_algo/g60_01_0')\n",
    "add_row(basic_stats, 'G(60, 1/10)', sample)"
   ]
  },
  {
   "cell_type": "markdown",
   "id": "a1b5216f-8dc6-407c-951a-5dc2ccb8a390",
   "metadata": {},
   "source": [
    "### G(60, 1/5)"
   ]
  },
  {
   "cell_type": "code",
   "execution_count": 19,
   "id": "efcd3a6b-b2d7-494b-bd48-bad3460df57d",
   "metadata": {},
   "outputs": [],
   "source": [
    "sample = np.loadtxt('basic_algo/g60_02_0')\n",
    "add_row(basic_stats, 'G(60, 1/5)', sample)"
   ]
  },
  {
   "cell_type": "markdown",
   "id": "1e79fcaf-0eb2-4cec-ab65-957ade874d96",
   "metadata": {},
   "source": [
    "### G(60, 3/10)"
   ]
  },
  {
   "cell_type": "code",
   "execution_count": 20,
   "id": "1056a389-1cbe-4f50-a11f-9014211cc681",
   "metadata": {},
   "outputs": [],
   "source": [
    "sample = np.loadtxt('basic_algo/g60_03_0')\n",
    "add_row(basic_stats, 'G(60, 3/10)', sample)"
   ]
  },
  {
   "cell_type": "markdown",
   "id": "053c91a5-cb02-47e6-b8f1-7ead2a5523f3",
   "metadata": {},
   "source": [
    "### G(60, 1/2)"
   ]
  },
  {
   "cell_type": "code",
   "execution_count": 21,
   "id": "e7d7014c-8af7-4272-885b-c576788ae6ae",
   "metadata": {},
   "outputs": [],
   "source": [
    "sample = np.loadtxt('basic_algo/g60_05_0')\n",
    "add_row(basic_stats, 'G(60, 1/2)', sample)"
   ]
  },
  {
   "cell_type": "markdown",
   "id": "347a0ad5-47c3-4165-90c3-a2ea44eaa2e5",
   "metadata": {},
   "source": [
    "### G(60, 7/10)"
   ]
  },
  {
   "cell_type": "code",
   "execution_count": 22,
   "id": "3ae3b267-46ec-4abe-97c1-d6a10cd8dbc9",
   "metadata": {},
   "outputs": [],
   "source": [
    "sample = np.loadtxt('basic_algo/g60_07_0')\n",
    "add_row(basic_stats, 'G(60, 7/10)', sample)"
   ]
  },
  {
   "cell_type": "markdown",
   "id": "556380d1-35b4-4a94-8fb1-f409dbaf62d5",
   "metadata": {},
   "source": [
    "## 65 вершин"
   ]
  },
  {
   "cell_type": "markdown",
   "id": "f9192c78-d458-4ce4-9105-33c9760f0bbd",
   "metadata": {},
   "source": [
    "### G(65, 1/10)"
   ]
  },
  {
   "cell_type": "code",
   "execution_count": 23,
   "id": "f5300903-bc46-4d87-9264-9192635206a1",
   "metadata": {},
   "outputs": [],
   "source": [
    "sample = np.loadtxt('basic_algo/g65_01_0')\n",
    "add_row(basic_stats, 'G(65, 1/10)', sample)"
   ]
  },
  {
   "cell_type": "code",
   "execution_count": 24,
   "id": "a627fb97-cc27-46cc-8c23-f5a6e38f6c7e",
   "metadata": {},
   "outputs": [
    {
     "data": {
      "image/png": "[encoded data removed]",
      "text/plain": [
       "<Figure size 1200x500 with 1 Axes>"
      ]
     },
     "metadata": {},
     "output_type": "display_data"
    }
   ],
   "source": [
    "plt.figure(figsize=(12, 5))\n",
    "plt.hist(sample, bins=40, density=True)\n",
    "plt.xlabel('Микросекунды')\n",
    "plt.ylabel('Плотность времени работы')\n",
    "\n",
    "plt.savefig('g65_01_0.png', dpi=400)"
   ]
  },
  {
   "cell_type": "markdown",
   "id": "5c8f5f55-7596-4cb0-8bb7-26f5de51677a",
   "metadata": {},
   "source": [
    "### G(65, 1/5)"
   ]
  },
  {
   "cell_type": "code",
   "execution_count": 25,
   "id": "4b2373b9-ca91-4b8a-b598-e7e76364661b",
   "metadata": {},
   "outputs": [],
   "source": [
    "sample = np.loadtxt('basic_algo/g65_02_0')\n",
    "add_row(basic_stats, 'G(65, 1/5)', sample)"
   ]
  },
  {
   "cell_type": "code",
   "execution_count": 26,
   "id": "c9458f01-7edd-4580-a0dd-a6a31cfa584b",
   "metadata": {},
   "outputs": [
    {
     "data": {
      "image/png": "[encoded data removed]",
      "text/plain": [
       "<Figure size 1200x500 with 1 Axes>"
      ]
     },
     "metadata": {},
     "output_type": "display_data"
    }
   ],
   "source": [
    "plt.figure(figsize=(12, 5))\n",
    "plt.hist(sample, bins=40, density=True)\n",
    "plt.xlabel('Микросекунды')\n",
    "plt.ylabel('Плотность времени работы')\n",
    "\n",
    "plt.savefig('g65_02_0.png', dpi=400)"
   ]
  },
  {
   "cell_type": "markdown",
   "id": "12ddeaaf-57dd-4d5c-8064-6770a044998c",
   "metadata": {},
   "source": [
    "### G(65, 3/10)"
   ]
  },
  {
   "cell_type": "code",
   "execution_count": 27,
   "id": "0f5a3674-24ad-4b6b-9a38-522d58375b68",
   "metadata": {},
   "outputs": [],
   "source": [
    "sample = np.loadtxt('basic_algo/g65_03_0')\n",
    "add_row(basic_stats, 'G(65, 3/10)', sample)"
   ]
  },
  {
   "cell_type": "code",
   "execution_count": 28,
   "id": "5d8926b8-fec8-453f-88e0-d79dc4d9a616",
   "metadata": {},
   "outputs": [
    {
     "data": {
      "image/png": "[encoded data removed]",
      "text/plain": [
       "<Figure size 1200x500 with 1 Axes>"
      ]
     },
     "metadata": {},
     "output_type": "display_data"
    }
   ],
   "source": [
    "plt.figure(figsize=(12, 5))\n",
    "plt.hist(sample, bins=40, density=True)\n",
    "plt.xlabel('Микросекунды')\n",
    "plt.ylabel('Плотность времени работы')\n",
    "\n",
    "plt.savefig('g65_03_0.png', dpi=400)"
   ]
  },
  {
   "cell_type": "markdown",
   "id": "36e54e4b-cd39-43a6-9e1a-00b67e3b8b3d",
   "metadata": {},
   "source": [
    "### G(65, 1/2)"
   ]
  },
  {
   "cell_type": "code",
   "execution_count": 29,
   "id": "1e144a60-40e7-4543-b05a-9ef6f950af37",
   "metadata": {},
   "outputs": [],
   "source": [
    "sample = np.loadtxt('basic_algo/g65_05_0')\n",
    "add_row(basic_stats, 'G(65, 1/2)', sample)"
   ]
  },
  {
   "cell_type": "code",
   "execution_count": 30,
   "id": "63cdc64a-466f-48af-9318-090d78058b4b",
   "metadata": {},
   "outputs": [
    {
     "data": {
      "image/png": "[encoded data removed]",
      "text/plain": [
       "<Figure size 1200x500 with 1 Axes>"
      ]
     },
     "metadata": {},
     "output_type": "display_data"
    }
   ],
   "source": [
    "plt.figure(figsize=(12, 5))\n",
    "plt.hist(sample, bins=40, density=True)\n",
    "plt.xlabel('Микросекунды')\n",
    "plt.ylabel('Плотность времени работы')\n",
    "\n",
    "plt.savefig('g65_05_0.png', dpi=400)"
   ]
  },
  {
   "cell_type": "markdown",
   "id": "fec8c901-ae82-41e0-b2b2-790fe26c1ff1",
   "metadata": {},
   "source": [
    "### G(65, 7/10)"
   ]
  },
  {
   "cell_type": "code",
   "execution_count": 31,
   "id": "8a48ec10-0c6f-4b74-9849-a2fd5f6e54b7",
   "metadata": {},
   "outputs": [],
   "source": [
    "sample = np.loadtxt('basic_algo/g65_07_0')\n",
    "add_row(basic_stats, 'G(65, 7/10)', sample)"
   ]
  },
  {
   "cell_type": "code",
   "execution_count": 32,
   "id": "a4fd6d02-901e-49fe-8e65-a3795189d744",
   "metadata": {},
   "outputs": [
    {
     "data": {
      "image/png": "[encoded data removed]",
      "text/plain": [
       "<Figure size 1200x500 with 1 Axes>"
      ]
     },
     "metadata": {},
     "output_type": "display_data"
    }
   ],
   "source": [
    "plt.figure(figsize=(12, 5))\n",
    "plt.hist(sample, bins=40, density=True)\n",
    "plt.xlabel('Микросекунды')\n",
    "plt.ylabel('Плотность времени работы')\n",
    "\n",
    "plt.savefig('g65_07_0.png', dpi=400)"
   ]
  },
  {
   "cell_type": "markdown",
   "id": "5a4bb0cc-39c0-4313-8f2a-e03768395c21",
   "metadata": {},
   "source": [
    "# Улучшенный алгоритм"
   ]
  },
  {
   "cell_type": "markdown",
   "id": "c2de29a4-bb84-4b5c-b6f4-137fcfa1dbfd",
   "metadata": {},
   "source": [
    "## Случайные графы"
   ]
  },
  {
   "cell_type": "code",
   "execution_count": 33,
   "id": "33b3e6b6-393a-450f-ad9e-5b7d405844ad",
   "metadata": {},
   "outputs": [],
   "source": [
    "adv_stats = []"
   ]
  },
  {
   "cell_type": "markdown",
   "id": "79772189-7b4e-47f9-ac4f-7788bf1d7346",
   "metadata": {},
   "source": [
    "## 20 вершин"
   ]
  },
  {
   "cell_type": "markdown",
   "id": "a4c4425c-025b-4be9-b359-557b715aee5a",
   "metadata": {},
   "source": [
    "### G(20, 1/10)"
   ]
  },
  {
   "cell_type": "code",
   "execution_count": 34,
   "id": "60ab6ac2-1c0c-4f73-8bf2-ddd195f573ee",
   "metadata": {},
   "outputs": [],
   "source": [
    "sample = np.loadtxt('adv_algo/g20_01_1')\n",
    "add_row(adv_stats, 'G(20, 1/10)', sample)"
   ]
  },
  {
   "cell_type": "markdown",
   "id": "25630779-5ae1-425d-b7ff-eb698ccbe273",
   "metadata": {},
   "source": [
    "### G(20, 1/5)"
   ]
  },
  {
   "cell_type": "code",
   "execution_count": 35,
   "id": "123567d8-cfab-48bd-ae14-45b3bf09fefb",
   "metadata": {},
   "outputs": [],
   "source": [
    "sample = np.loadtxt('adv_algo/g20_02_1')\n",
    "add_row(adv_stats, 'G(20, 1/5)', sample)"
   ]
  },
  {
   "cell_type": "markdown",
   "id": "094ccc5e-ca41-4b6a-a014-76ffba2bc702",
   "metadata": {},
   "source": [
    "### G(20, 3/10)"
   ]
  },
  {
   "cell_type": "code",
   "execution_count": 36,
   "id": "74ba699e-43fc-442a-8932-4aa0d8ef83f9",
   "metadata": {},
   "outputs": [],
   "source": [
    "sample = np.loadtxt('adv_algo/g20_03_1')\n",
    "add_row(adv_stats, 'G(20, 3/10)', sample)"
   ]
  },
  {
   "cell_type": "markdown",
   "id": "b3fae47f-3c54-489b-acec-27abeb5b63db",
   "metadata": {},
   "source": [
    "### G(20, 1/2)"
   ]
  },
  {
   "cell_type": "code",
   "execution_count": 37,
   "id": "51ca5448-638e-4a1e-afbf-3f35f5d3d3c1",
   "metadata": {},
   "outputs": [],
   "source": [
    "sample = np.loadtxt('adv_algo/g20_05_1')\n",
    "add_row(adv_stats, 'G(20, 1/2)', sample)"
   ]
  },
  {
   "cell_type": "markdown",
   "id": "9874dbd6-c441-4a55-b96c-8468e6195f0b",
   "metadata": {},
   "source": [
    "### G(20, 7/10)"
   ]
  },
  {
   "cell_type": "code",
   "execution_count": 38,
   "id": "ac0b888c-e902-4ec9-8465-8f86b30bb113",
   "metadata": {},
   "outputs": [],
   "source": [
    "sample = np.loadtxt('adv_algo/g20_07_1')\n",
    "add_row(adv_stats, 'G(20, 7/10)', sample)"
   ]
  },
  {
   "cell_type": "markdown",
   "id": "03f54efe-74fa-4708-b0e0-f4da6c4bc861",
   "metadata": {},
   "source": [
    "## 40 вершин"
   ]
  },
  {
   "cell_type": "markdown",
   "id": "7edc9923-4844-441d-a939-e54be5aad8df",
   "metadata": {},
   "source": [
    "### G(40, 1/10)"
   ]
  },
  {
   "cell_type": "code",
   "execution_count": 39,
   "id": "41e88d74-7b36-46aa-8301-decea779c051",
   "metadata": {},
   "outputs": [],
   "source": [
    "sample = np.loadtxt('adv_algo/g40_01_1')\n",
    "add_row(adv_stats, 'G(40, 1/10)', sample)"
   ]
  },
  {
   "cell_type": "markdown",
   "id": "03a79229-4925-4775-8ecf-12ad0ea87f71",
   "metadata": {},
   "source": [
    "### G(40, 1/5)"
   ]
  },
  {
   "cell_type": "code",
   "execution_count": 40,
   "id": "ae4601d7-cc27-45e4-bd72-d5355db4618d",
   "metadata": {},
   "outputs": [],
   "source": [
    "sample = np.loadtxt('adv_algo/g40_02_1')\n",
    "add_row(adv_stats, 'G(40, 1/5)', sample)"
   ]
  },
  {
   "cell_type": "markdown",
   "id": "8e2e753b-dc7d-41a9-af15-a8cf562a00fa",
   "metadata": {},
   "source": [
    "### G(40, 3/10)"
   ]
  },
  {
   "cell_type": "code",
   "execution_count": 41,
   "id": "e314289a-5ca6-46df-8563-226320bd1443",
   "metadata": {},
   "outputs": [],
   "source": [
    "sample = np.loadtxt('adv_algo/g40_03_1')\n",
    "add_row(adv_stats, 'G(40, 3/10)', sample)"
   ]
  },
  {
   "cell_type": "markdown",
   "id": "4c5f67c5-e334-4209-9c58-6551c4dcb54b",
   "metadata": {},
   "source": [
    "### G(40, 1/2)"
   ]
  },
  {
   "cell_type": "code",
   "execution_count": 42,
   "id": "8d801dfa-8ba0-4f40-b604-7ecaf828f741",
   "metadata": {},
   "outputs": [],
   "source": [
    "sample = np.loadtxt('adv_algo/g40_05_1')\n",
    "add_row(adv_stats, 'G(40, 1/2)', sample)"
   ]
  },
  {
   "cell_type": "markdown",
   "id": "e00d7ee8-4e3e-4cb8-8f37-e4648a8bff17",
   "metadata": {},
   "source": [
    "### G(40, 7/10)"
   ]
  },
  {
   "cell_type": "code",
   "execution_count": 43,
   "id": "a9b83a0a-12e9-4e8e-9b52-6fe5c4b3ad3b",
   "metadata": {},
   "outputs": [],
   "source": [
    "sample = np.loadtxt('adv_algo/g40_07_1')\n",
    "add_row(adv_stats, 'G(40, 7/10)', sample)"
   ]
  },
  {
   "cell_type": "markdown",
   "id": "e048e9e1-01c3-4b5a-91df-ece1e9f126f3",
   "metadata": {},
   "source": [
    "## 50 вершин"
   ]
  },
  {
   "cell_type": "markdown",
   "id": "6901a3a3-112e-4fe2-9389-741dd18256c0",
   "metadata": {},
   "source": [
    "### G(50, 1/10)"
   ]
  },
  {
   "cell_type": "code",
   "execution_count": 44,
   "id": "f87ce944-143f-400b-88f2-020179a69c98",
   "metadata": {},
   "outputs": [],
   "source": [
    "sample = np.loadtxt('adv_algo/g50_01_1')\n",
    "add_row(adv_stats, 'G(50, 1/10)', sample)"
   ]
  },
  {
   "cell_type": "markdown",
   "id": "01814403-d5f6-4c3a-8386-b48be4fae909",
   "metadata": {},
   "source": [
    "### G(50, 1/5)"
   ]
  },
  {
   "cell_type": "code",
   "execution_count": 45,
   "id": "ee468dbd-f175-4f0a-93ca-50aede84e8f6",
   "metadata": {},
   "outputs": [],
   "source": [
    "sample = np.loadtxt('adv_algo/g50_02_1')\n",
    "add_row(adv_stats, 'G(50, 1/5)', sample)"
   ]
  },
  {
   "cell_type": "markdown",
   "id": "65800d81-5cd2-4a45-ba16-25188533db03",
   "metadata": {},
   "source": [
    "### G(50, 3/10)"
   ]
  },
  {
   "cell_type": "code",
   "execution_count": 46,
   "id": "e15bd279-e952-45df-ab0e-712759fd87fc",
   "metadata": {},
   "outputs": [],
   "source": [
    "sample = np.loadtxt('adv_algo/g50_03_1')\n",
    "add_row(adv_stats, 'G(50, 3/10)', sample)"
   ]
  },
  {
   "cell_type": "markdown",
   "id": "90b7e17c-03db-4b43-9cd2-dfc99b10edeb",
   "metadata": {},
   "source": [
    "### G(50, 1/2)"
   ]
  },
  {
   "cell_type": "code",
   "execution_count": 47,
   "id": "3d714661-dc31-4c7e-9794-095fb4b56ddd",
   "metadata": {},
   "outputs": [],
   "source": [
    "sample = np.loadtxt('adv_algo/g50_05_1')\n",
    "add_row(adv_stats, 'G(50, 1/2)', sample)"
   ]
  },
  {
   "cell_type": "markdown",
   "id": "1a807704-f238-4c9a-ad9c-bafc1e6fa3c5",
   "metadata": {},
   "source": [
    "### G(50, 7/10)"
   ]
  },
  {
   "cell_type": "code",
   "execution_count": 48,
   "id": "68a52d06-01eb-42fc-b9a1-eec54af84ed0",
   "metadata": {},
   "outputs": [],
   "source": [
    "sample = np.loadtxt('adv_algo/g50_07_1')\n",
    "add_row(adv_stats, 'G(50, 7/10)', sample)"
   ]
  },
  {
   "cell_type": "markdown",
   "id": "3bc52680-d1ca-4c9a-921d-01fffd0ed804",
   "metadata": {},
   "source": [
    "## 60 вершин"
   ]
  },
  {
   "cell_type": "markdown",
   "id": "713f5b69-a8a6-4f90-9a30-10357d78ec47",
   "metadata": {},
   "source": [
    "### G(60, 1/10)"
   ]
  },
  {
   "cell_type": "code",
   "execution_count": 49,
   "id": "2f0b2a46-bae0-4618-afc2-13ae54da4680",
   "metadata": {},
   "outputs": [],
   "source": [
    "sample = np.loadtxt('adv_algo/g60_01_1')\n",
    "add_row(adv_stats, 'G(60, 1/10)', sample)"
   ]
  },
  {
   "cell_type": "markdown",
   "id": "53aa7a4c-9e48-42d4-aa47-e721bda0d34f",
   "metadata": {},
   "source": [
    "### G(60, 1/5)"
   ]
  },
  {
   "cell_type": "code",
   "execution_count": 50,
   "id": "efdb4127-8847-41f7-8f35-2e10556c38bc",
   "metadata": {},
   "outputs": [],
   "source": [
    "sample = np.loadtxt('adv_algo/g60_02_1')\n",
    "add_row(adv_stats, 'G(60, 1/5)', sample)"
   ]
  },
  {
   "cell_type": "markdown",
   "id": "615b2ee1-ba31-48ba-b71c-c697598a2219",
   "metadata": {},
   "source": [
    "### G(60, 3/10)"
   ]
  },
  {
   "cell_type": "code",
   "execution_count": 51,
   "id": "e8514659-986a-42d2-9b78-aa22867bbdf7",
   "metadata": {},
   "outputs": [],
   "source": [
    "sample = np.loadtxt('adv_algo/g60_03_1')\n",
    "add_row(adv_stats, 'G(60, 3/10)', sample)"
   ]
  },
  {
   "cell_type": "markdown",
   "id": "bc5e1f59-f167-484c-8d93-a16f08eb263d",
   "metadata": {},
   "source": [
    "### G(60, 1/2)"
   ]
  },
  {
   "cell_type": "code",
   "execution_count": 52,
   "id": "0bd8e5c0-1647-4e3b-9a65-483836f24358",
   "metadata": {},
   "outputs": [],
   "source": [
    "sample = np.loadtxt('adv_algo/g60_05_1')\n",
    "add_row(adv_stats, 'G(60, 1/2)', sample)"
   ]
  },
  {
   "cell_type": "markdown",
   "id": "111d029b-52a0-452c-9de0-60dcb4edba09",
   "metadata": {},
   "source": [
    "### G(60, 7/10)"
   ]
  },
  {
   "cell_type": "code",
   "execution_count": 53,
   "id": "bd62d266-ebb3-479b-9cf7-b3eb920d4e8f",
   "metadata": {},
   "outputs": [],
   "source": [
    "sample = np.loadtxt('adv_algo/g60_07_1')\n",
    "add_row(adv_stats, 'G(60, 7/10)', sample)"
   ]
  },
  {
   "cell_type": "markdown",
   "id": "91befb98-8e3a-425b-83df-ae5d0fac09b8",
   "metadata": {},
   "source": [
    "## 65 вершин"
   ]
  },
  {
   "cell_type": "markdown",
   "id": "e64899aa-b3d4-4637-9418-e741fb47156d",
   "metadata": {},
   "source": [
    "### G(65, 1/10)"
   ]
  },
  {
   "cell_type": "code",
   "execution_count": 54,
   "id": "8c0f94b8-5309-419b-9e5c-8fb3c96a00b7",
   "metadata": {},
   "outputs": [],
   "source": [
    "sample = np.loadtxt('adv_algo/g65_01_1')\n",
    "add_row(adv_stats, 'G(65, 1/10)', sample)"
   ]
  },
  {
   "cell_type": "code",
   "execution_count": null,
   "id": "5a306269-205a-4b68-a5f7-2343eae9a970",
   "metadata": {},
   "outputs": [],
   "source": []
  },
  {
   "cell_type": "code",
   "execution_count": 55,
   "id": "e3c9a2b4-8bd9-4f77-bd45-576dfcd6d997",
   "metadata": {},
   "outputs": [
    {
     "data": {
      "text/html": [
       "<div>\n",
       "<style scoped>\n",
       "    .dataframe tbody tr th:only-of-type {\n",
       "        vertical-align: middle;\n",
       "    }\n",
       "\n",
       "    .dataframe tbody tr th {\n",
       "        vertical-align: top;\n",
       "    }\n",
       "\n",
       "    .dataframe thead th {\n",
       "        text-align: right;\n",
       "    }\n",
       "</style>\n",
       "<table border=\"1\" class=\"dataframe\">\n",
       "  <thead>\n",
       "    <tr style=\"text-align: right;\">\n",
       "      <th></th>\n",
       "      <th>Среднее</th>\n",
       "      <th>Медиана</th>\n",
       "      <th>0.25-квантиль</th>\n",
       "      <th>0.75-квантиль</th>\n",
       "    </tr>\n",
       "    <tr>\n",
       "      <th>Тип</th>\n",
       "      <th></th>\n",
       "      <th></th>\n",
       "      <th></th>\n",
       "      <th></th>\n",
       "    </tr>\n",
       "  </thead>\n",
       "  <tbody>\n",
       "    <tr>\n",
       "      <th>G(20, 1/10)</th>\n",
       "      <td>2.58</td>\n",
       "      <td>2.0</td>\n",
       "      <td>2.00</td>\n",
       "      <td>3.00</td>\n",
       "    </tr>\n",
       "    <tr>\n",
       "      <th>G(20, 1/5)</th>\n",
       "      <td>7.17</td>\n",
       "      <td>4.0</td>\n",
       "      <td>2.00</td>\n",
       "      <td>8.00</td>\n",
       "    </tr>\n",
       "    <tr>\n",
       "      <th>G(20, 3/10)</th>\n",
       "      <td>20.95</td>\n",
       "      <td>20.0</td>\n",
       "      <td>11.00</td>\n",
       "      <td>31.00</td>\n",
       "    </tr>\n",
       "    <tr>\n",
       "      <th>G(20, 1/2)</th>\n",
       "      <td>21.09</td>\n",
       "      <td>20.5</td>\n",
       "      <td>16.00</td>\n",
       "      <td>25.00</td>\n",
       "    </tr>\n",
       "    <tr>\n",
       "      <th>G(20, 7/10)</th>\n",
       "      <td>10.45</td>\n",
       "      <td>10.5</td>\n",
       "      <td>8.00</td>\n",
       "      <td>13.00</td>\n",
       "    </tr>\n",
       "    <tr>\n",
       "      <th>G(40, 1/10)</th>\n",
       "      <td>146.57</td>\n",
       "      <td>46.0</td>\n",
       "      <td>21.00</td>\n",
       "      <td>147.25</td>\n",
       "    </tr>\n",
       "    <tr>\n",
       "      <th>G(40, 1/5)</th>\n",
       "      <td>3883.49</td>\n",
       "      <td>3821.5</td>\n",
       "      <td>2224.00</td>\n",
       "      <td>4926.25</td>\n",
       "    </tr>\n",
       "    <tr>\n",
       "      <th>G(40, 1/2)</th>\n",
       "      <td>1040.01</td>\n",
       "      <td>1046.5</td>\n",
       "      <td>871.50</td>\n",
       "      <td>1187.00</td>\n",
       "    </tr>\n",
       "    <tr>\n",
       "      <th>G(40, 7/10)</th>\n",
       "      <td>134.08</td>\n",
       "      <td>128.5</td>\n",
       "      <td>111.75</td>\n",
       "      <td>155.25</td>\n",
       "    </tr>\n",
       "    <tr>\n",
       "      <th>G(50, 1/10)</th>\n",
       "      <td>2933.55</td>\n",
       "      <td>1054.0</td>\n",
       "      <td>183.75</td>\n",
       "      <td>3233.00</td>\n",
       "    </tr>\n",
       "    <tr>\n",
       "      <th>G(50, 1/5)</th>\n",
       "      <td>64304.58</td>\n",
       "      <td>59604.5</td>\n",
       "      <td>43050.00</td>\n",
       "      <td>80416.50</td>\n",
       "    </tr>\n",
       "    <tr>\n",
       "      <th>G(50, 3/10)</th>\n",
       "      <td>42080.48</td>\n",
       "      <td>40946.5</td>\n",
       "      <td>34079.50</td>\n",
       "      <td>48281.50</td>\n",
       "    </tr>\n",
       "    <tr>\n",
       "      <th>G(50, 1/2)</th>\n",
       "      <td>4549.93</td>\n",
       "      <td>4407.0</td>\n",
       "      <td>3928.75</td>\n",
       "      <td>5179.50</td>\n",
       "    </tr>\n",
       "    <tr>\n",
       "      <th>G(50, 7/10)</th>\n",
       "      <td>382.06</td>\n",
       "      <td>377.0</td>\n",
       "      <td>324.75</td>\n",
       "      <td>438.50</td>\n",
       "    </tr>\n",
       "    <tr>\n",
       "      <th>G(60, 1/10)</th>\n",
       "      <td>71418.37</td>\n",
       "      <td>40161.5</td>\n",
       "      <td>11896.25</td>\n",
       "      <td>93271.75</td>\n",
       "    </tr>\n",
       "    <tr>\n",
       "      <th>G(60, 1/5)</th>\n",
       "      <td>842583.11</td>\n",
       "      <td>777196.5</td>\n",
       "      <td>632192.75</td>\n",
       "      <td>976067.50</td>\n",
       "    </tr>\n",
       "    <tr>\n",
       "      <th>G(60, 3/10)</th>\n",
       "      <td>350394.95</td>\n",
       "      <td>343992.0</td>\n",
       "      <td>287411.25</td>\n",
       "      <td>383040.00</td>\n",
       "    </tr>\n",
       "    <tr>\n",
       "      <th>G(60, 1/2)</th>\n",
       "      <td>18046.69</td>\n",
       "      <td>17616.0</td>\n",
       "      <td>15607.00</td>\n",
       "      <td>20408.25</td>\n",
       "    </tr>\n",
       "    <tr>\n",
       "      <th>G(60, 7/10)</th>\n",
       "      <td>1024.64</td>\n",
       "      <td>974.5</td>\n",
       "      <td>889.75</td>\n",
       "      <td>1139.25</td>\n",
       "    </tr>\n",
       "    <tr>\n",
       "      <th>G(65, 1/10)</th>\n",
       "      <td>458797.60</td>\n",
       "      <td>344066.0</td>\n",
       "      <td>160127.00</td>\n",
       "      <td>576648.75</td>\n",
       "    </tr>\n",
       "    <tr>\n",
       "      <th>G(65, 1/5)</th>\n",
       "      <td>2869026.31</td>\n",
       "      <td>2603538.0</td>\n",
       "      <td>2158357.75</td>\n",
       "      <td>3416341.75</td>\n",
       "    </tr>\n",
       "    <tr>\n",
       "      <th>G(65, 3/10)</th>\n",
       "      <td>864690.66</td>\n",
       "      <td>850250.0</td>\n",
       "      <td>733584.50</td>\n",
       "      <td>952602.50</td>\n",
       "    </tr>\n",
       "    <tr>\n",
       "      <th>G(65, 1/2)</th>\n",
       "      <td>30750.04</td>\n",
       "      <td>30167.5</td>\n",
       "      <td>26778.25</td>\n",
       "      <td>33781.50</td>\n",
       "    </tr>\n",
       "    <tr>\n",
       "      <th>G(65, 7/10)</th>\n",
       "      <td>1494.42</td>\n",
       "      <td>1449.0</td>\n",
       "      <td>1327.00</td>\n",
       "      <td>1658.75</td>\n",
       "    </tr>\n",
       "  </tbody>\n",
       "</table>\n",
       "</div>"
      ],
      "text/plain": [
       "                Среднее    Медиана  0.25-квантиль  0.75-квантиль\n",
       "Тип                                                             \n",
       "G(20, 1/10)        2.58        2.0           2.00           3.00\n",
       "G(20, 1/5)         7.17        4.0           2.00           8.00\n",
       "G(20, 3/10)       20.95       20.0          11.00          31.00\n",
       "G(20, 1/2)        21.09       20.5          16.00          25.00\n",
       "G(20, 7/10)       10.45       10.5           8.00          13.00\n",
       "G(40, 1/10)      146.57       46.0          21.00         147.25\n",
       "G(40, 1/5)      3883.49     3821.5        2224.00        4926.25\n",
       "G(40, 1/2)      1040.01     1046.5         871.50        1187.00\n",
       "G(40, 7/10)      134.08      128.5         111.75         155.25\n",
       "G(50, 1/10)     2933.55     1054.0         183.75        3233.00\n",
       "G(50, 1/5)     64304.58    59604.5       43050.00       80416.50\n",
       "G(50, 3/10)    42080.48    40946.5       34079.50       48281.50\n",
       "G(50, 1/2)      4549.93     4407.0        3928.75        5179.50\n",
       "G(50, 7/10)      382.06      377.0         324.75         438.50\n",
       "G(60, 1/10)    71418.37    40161.5       11896.25       93271.75\n",
       "G(60, 1/5)    842583.11   777196.5      632192.75      976067.50\n",
       "G(60, 3/10)   350394.95   343992.0      287411.25      383040.00\n",
       "G(60, 1/2)     18046.69    17616.0       15607.00       20408.25\n",
       "G(60, 7/10)     1024.64      974.5         889.75        1139.25\n",
       "G(65, 1/10)   458797.60   344066.0      160127.00      576648.75\n",
       "G(65, 1/5)   2869026.31  2603538.0     2158357.75     3416341.75\n",
       "G(65, 3/10)   864690.66   850250.0      733584.50      952602.50\n",
       "G(65, 1/2)     30750.04    30167.5       26778.25       33781.50\n",
       "G(65, 7/10)     1494.42     1449.0        1327.00        1658.75"
      ]
     },
     "execution_count": 55,
     "metadata": {},
     "output_type": "execute_result"
    }
   ],
   "source": [
    "table = pd.DataFrame(basic_stats,\n",
    "                     columns=['Тип', 'Среднее', 'Медиана', '0.25-квантиль', '0.75-квантиль'])\n",
    "# blank_index = [''] * len(table)\n",
    "# table.index = blank_index\n",
    "table = table.set_index('Тип')\n",
    "\n",
    "table"
   ]
  },
  {
   "cell_type": "code",
   "execution_count": 56,
   "id": "d521b312-8b3a-45a7-97fa-e9158fe9a6a7",
   "metadata": {},
   "outputs": [
    {
     "name": "stdout",
     "output_type": "stream",
     "text": [
      "\\begin{tabular}{lrrrr}\n",
      "\\toprule\n",
      "{} &     Среднее &    Медиана &  0.25-квантиль &  0.75-квантиль \\\\\n",
      "Тип         &             &            &                &                \\\\\n",
      "\\midrule\n",
      "G(20, 1/10) &        2.58 &        2.0 &           2.00 &           3.00 \\\\\n",
      "G(20, 1/5)  &        7.17 &        4.0 &           2.00 &           8.00 \\\\\n",
      "G(20, 3/10) &       20.95 &       20.0 &          11.00 &          31.00 \\\\\n",
      "G(20, 1/2)  &       21.09 &       20.5 &          16.00 &          25.00 \\\\\n",
      "G(20, 7/10) &       10.45 &       10.5 &           8.00 &          13.00 \\\\\n",
      "G(40, 1/10) &      146.57 &       46.0 &          21.00 &         147.25 \\\\\n",
      "G(40, 1/5)  &     3883.49 &     3821.5 &        2224.00 &        4926.25 \\\\\n",
      "G(40, 1/2)  &     1040.01 &     1046.5 &         871.50 &        1187.00 \\\\\n",
      "G(40, 7/10) &      134.08 &      128.5 &         111.75 &         155.25 \\\\\n",
      "G(50, 1/10) &     2933.55 &     1054.0 &         183.75 &        3233.00 \\\\\n",
      "G(50, 1/5)  &    64304.58 &    59604.5 &       43050.00 &       80416.50 \\\\\n",
      "G(50, 3/10) &    42080.48 &    40946.5 &       34079.50 &       48281.50 \\\\\n",
      "G(50, 1/2)  &     4549.93 &     4407.0 &        3928.75 &        5179.50 \\\\\n",
      "G(50, 7/10) &      382.06 &      377.0 &         324.75 &         438.50 \\\\\n",
      "G(60, 1/10) &    71418.37 &    40161.5 &       11896.25 &       93271.75 \\\\\n",
      "G(60, 1/5)  &   842583.11 &   777196.5 &      632192.75 &      976067.50 \\\\\n",
      "G(60, 3/10) &   350394.95 &   343992.0 &      287411.25 &      383040.00 \\\\\n",
      "G(60, 1/2)  &    18046.69 &    17616.0 &       15607.00 &       20408.25 \\\\\n",
      "G(60, 7/10) &     1024.64 &      974.5 &         889.75 &        1139.25 \\\\\n",
      "G(65, 1/10) &   458797.60 &   344066.0 &      160127.00 &      576648.75 \\\\\n",
      "G(65, 1/5)  &  2869026.31 &  2603538.0 &     2158357.75 &     3416341.75 \\\\\n",
      "G(65, 3/10) &   864690.66 &   850250.0 &      733584.50 &      952602.50 \\\\\n",
      "G(65, 1/2)  &    30750.04 &    30167.5 &       26778.25 &       33781.50 \\\\\n",
      "G(65, 7/10) &     1494.42 &     1449.0 &        1327.00 &        1658.75 \\\\\n",
      "\\bottomrule\n",
      "\\end{tabular}\n",
      "\n"
     ]
    },
    {
     "name": "stderr",
     "output_type": "stream",
     "text": [
      "/tmp/ipykernel_570811/3293683267.py:1: FutureWarning: In future versions `DataFrame.to_latex` is expected to utilise the base implementation of `Styler.to_latex` for formatting and rendering. The arguments signature may therefore change. It is recommended instead to use `DataFrame.style.to_latex` which also contains additional functionality.\n",
      "  print(table.to_latex())\n"
     ]
    }
   ],
   "source": [
    "print(table.to_latex())"
   ]
  },
  {
   "cell_type": "code",
   "execution_count": 57,
   "id": "26fff31d-030b-4438-be2c-bcd2445ada63",
   "metadata": {},
   "outputs": [
    {
     "data": {
      "text/html": [
       "<div>\n",
       "<style scoped>\n",
       "    .dataframe tbody tr th:only-of-type {\n",
       "        vertical-align: middle;\n",
       "    }\n",
       "\n",
       "    .dataframe tbody tr th {\n",
       "        vertical-align: top;\n",
       "    }\n",
       "\n",
       "    .dataframe thead th {\n",
       "        text-align: right;\n",
       "    }\n",
       "</style>\n",
       "<table border=\"1\" class=\"dataframe\">\n",
       "  <thead>\n",
       "    <tr style=\"text-align: right;\">\n",
       "      <th></th>\n",
       "      <th>Среднее</th>\n",
       "      <th>Медиана</th>\n",
       "      <th>0.25-квантиль</th>\n",
       "      <th>0.75-квантиль</th>\n",
       "    </tr>\n",
       "    <tr>\n",
       "      <th>Тип</th>\n",
       "      <th></th>\n",
       "      <th></th>\n",
       "      <th></th>\n",
       "      <th></th>\n",
       "    </tr>\n",
       "  </thead>\n",
       "  <tbody>\n",
       "    <tr>\n",
       "      <th>G(20, 1/10)</th>\n",
       "      <td>3.44</td>\n",
       "      <td>2.0</td>\n",
       "      <td>2.00</td>\n",
       "      <td>3.00</td>\n",
       "    </tr>\n",
       "    <tr>\n",
       "      <th>G(20, 1/5)</th>\n",
       "      <td>14.10</td>\n",
       "      <td>7.0</td>\n",
       "      <td>3.00</td>\n",
       "      <td>19.00</td>\n",
       "    </tr>\n",
       "    <tr>\n",
       "      <th>G(20, 3/10)</th>\n",
       "      <td>51.06</td>\n",
       "      <td>38.0</td>\n",
       "      <td>19.75</td>\n",
       "      <td>68.00</td>\n",
       "    </tr>\n",
       "    <tr>\n",
       "      <th>G(20, 1/2)</th>\n",
       "      <td>41.90</td>\n",
       "      <td>37.0</td>\n",
       "      <td>25.00</td>\n",
       "      <td>53.75</td>\n",
       "    </tr>\n",
       "    <tr>\n",
       "      <th>G(20, 7/10)</th>\n",
       "      <td>10.07</td>\n",
       "      <td>10.0</td>\n",
       "      <td>8.00</td>\n",
       "      <td>12.00</td>\n",
       "    </tr>\n",
       "    <tr>\n",
       "      <th>G(40, 1/10)</th>\n",
       "      <td>154.60</td>\n",
       "      <td>64.0</td>\n",
       "      <td>27.75</td>\n",
       "      <td>171.25</td>\n",
       "    </tr>\n",
       "    <tr>\n",
       "      <th>G(40, 1/5)</th>\n",
       "      <td>8146.74</td>\n",
       "      <td>7069.5</td>\n",
       "      <td>3775.50</td>\n",
       "      <td>11108.00</td>\n",
       "    </tr>\n",
       "    <tr>\n",
       "      <th>G(40, 3/10)</th>\n",
       "      <td>11196.26</td>\n",
       "      <td>10919.0</td>\n",
       "      <td>8504.25</td>\n",
       "      <td>13242.50</td>\n",
       "    </tr>\n",
       "    <tr>\n",
       "      <th>G(40, 1/2)</th>\n",
       "      <td>2152.94</td>\n",
       "      <td>2024.0</td>\n",
       "      <td>1729.25</td>\n",
       "      <td>2470.50</td>\n",
       "    </tr>\n",
       "    <tr>\n",
       "      <th>G(40, 7/10)</th>\n",
       "      <td>186.21</td>\n",
       "      <td>173.5</td>\n",
       "      <td>150.00</td>\n",
       "      <td>209.75</td>\n",
       "    </tr>\n",
       "    <tr>\n",
       "      <th>G(50, 1/10)</th>\n",
       "      <td>5151.67</td>\n",
       "      <td>2050.5</td>\n",
       "      <td>589.75</td>\n",
       "      <td>7332.25</td>\n",
       "    </tr>\n",
       "    <tr>\n",
       "      <th>G(50, 1/5)</th>\n",
       "      <td>155839.38</td>\n",
       "      <td>149146.5</td>\n",
       "      <td>103251.25</td>\n",
       "      <td>195761.00</td>\n",
       "    </tr>\n",
       "    <tr>\n",
       "      <th>G(50, 3/10)</th>\n",
       "      <td>107816.36</td>\n",
       "      <td>109894.0</td>\n",
       "      <td>86286.75</td>\n",
       "      <td>123666.75</td>\n",
       "    </tr>\n",
       "    <tr>\n",
       "      <th>G(50, 1/2)</th>\n",
       "      <td>8320.48</td>\n",
       "      <td>7953.5</td>\n",
       "      <td>6951.50</td>\n",
       "      <td>9273.75</td>\n",
       "    </tr>\n",
       "    <tr>\n",
       "      <th>G(50, 7/10)</th>\n",
       "      <td>436.16</td>\n",
       "      <td>432.0</td>\n",
       "      <td>361.50</td>\n",
       "      <td>487.50</td>\n",
       "    </tr>\n",
       "    <tr>\n",
       "      <th>G(60, 1/10)</th>\n",
       "      <td>172691.16</td>\n",
       "      <td>58640.0</td>\n",
       "      <td>25789.50</td>\n",
       "      <td>133658.50</td>\n",
       "    </tr>\n",
       "    <tr>\n",
       "      <th>G(60, 1/5)</th>\n",
       "      <td>2107943.48</td>\n",
       "      <td>1975976.0</td>\n",
       "      <td>1568499.50</td>\n",
       "      <td>2691828.50</td>\n",
       "    </tr>\n",
       "    <tr>\n",
       "      <th>G(60, 3/10)</th>\n",
       "      <td>835474.51</td>\n",
       "      <td>834159.5</td>\n",
       "      <td>680734.50</td>\n",
       "      <td>951240.00</td>\n",
       "    </tr>\n",
       "    <tr>\n",
       "      <th>G(60, 1/2)</th>\n",
       "      <td>33657.59</td>\n",
       "      <td>33152.5</td>\n",
       "      <td>27504.25</td>\n",
       "      <td>39111.75</td>\n",
       "    </tr>\n",
       "    <tr>\n",
       "      <th>G(60, 7/10)</th>\n",
       "      <td>1128.78</td>\n",
       "      <td>1063.0</td>\n",
       "      <td>907.00</td>\n",
       "      <td>1241.25</td>\n",
       "    </tr>\n",
       "    <tr>\n",
       "      <th>G(65, 1/10)</th>\n",
       "      <td>640063.98</td>\n",
       "      <td>344424.5</td>\n",
       "      <td>126929.50</td>\n",
       "      <td>893258.75</td>\n",
       "    </tr>\n",
       "  </tbody>\n",
       "</table>\n",
       "</div>"
      ],
      "text/plain": [
       "                Среднее    Медиана  0.25-квантиль  0.75-квантиль\n",
       "Тип                                                             \n",
       "G(20, 1/10)        3.44        2.0           2.00           3.00\n",
       "G(20, 1/5)        14.10        7.0           3.00          19.00\n",
       "G(20, 3/10)       51.06       38.0          19.75          68.00\n",
       "G(20, 1/2)        41.90       37.0          25.00          53.75\n",
       "G(20, 7/10)       10.07       10.0           8.00          12.00\n",
       "G(40, 1/10)      154.60       64.0          27.75         171.25\n",
       "G(40, 1/5)      8146.74     7069.5        3775.50       11108.00\n",
       "G(40, 3/10)    11196.26    10919.0        8504.25       13242.50\n",
       "G(40, 1/2)      2152.94     2024.0        1729.25        2470.50\n",
       "G(40, 7/10)      186.21      173.5         150.00         209.75\n",
       "G(50, 1/10)     5151.67     2050.5         589.75        7332.25\n",
       "G(50, 1/5)    155839.38   149146.5      103251.25      195761.00\n",
       "G(50, 3/10)   107816.36   109894.0       86286.75      123666.75\n",
       "G(50, 1/2)      8320.48     7953.5        6951.50        9273.75\n",
       "G(50, 7/10)      436.16      432.0         361.50         487.50\n",
       "G(60, 1/10)   172691.16    58640.0       25789.50      133658.50\n",
       "G(60, 1/5)   2107943.48  1975976.0     1568499.50     2691828.50\n",
       "G(60, 3/10)   835474.51   834159.5      680734.50      951240.00\n",
       "G(60, 1/2)     33657.59    33152.5       27504.25       39111.75\n",
       "G(60, 7/10)     1128.78     1063.0         907.00        1241.25\n",
       "G(65, 1/10)   640063.98   344424.5      126929.50      893258.75"
      ]
     },
     "execution_count": 57,
     "metadata": {},
     "output_type": "execute_result"
    }
   ],
   "source": [
    "table = pd.DataFrame(adv_stats,\n",
    "                     columns=['Тип', 'Среднее', 'Медиана', '0.25-квантиль', '0.75-квантиль'])\n",
    "# blank_index = [''] * len(table)\n",
    "# table.index = blank_index\n",
    "table = table.set_index('Тип')\n",
    "\n",
    "table"
   ]
  },
  {
   "cell_type": "code",
   "execution_count": 58,
   "id": "ad8df18c-4c54-4b17-b033-2acb0e245edc",
   "metadata": {},
   "outputs": [
    {
     "name": "stdout",
     "output_type": "stream",
     "text": [
      "\\begin{tabular}{lrrrr}\n",
      "\\toprule\n",
      "{} &     Среднее &    Медиана &  0.25-квантиль &  0.75-квантиль \\\\\n",
      "Тип         &             &            &                &                \\\\\n",
      "\\midrule\n",
      "G(20, 1/10) &        3.44 &        2.0 &           2.00 &           3.00 \\\\\n",
      "G(20, 1/5)  &       14.10 &        7.0 &           3.00 &          19.00 \\\\\n",
      "G(20, 3/10) &       51.06 &       38.0 &          19.75 &          68.00 \\\\\n",
      "G(20, 1/2)  &       41.90 &       37.0 &          25.00 &          53.75 \\\\\n",
      "G(20, 7/10) &       10.07 &       10.0 &           8.00 &          12.00 \\\\\n",
      "G(40, 1/10) &      154.60 &       64.0 &          27.75 &         171.25 \\\\\n",
      "G(40, 1/5)  &     8146.74 &     7069.5 &        3775.50 &       11108.00 \\\\\n",
      "G(40, 3/10) &    11196.26 &    10919.0 &        8504.25 &       13242.50 \\\\\n",
      "G(40, 1/2)  &     2152.94 &     2024.0 &        1729.25 &        2470.50 \\\\\n",
      "G(40, 7/10) &      186.21 &      173.5 &         150.00 &         209.75 \\\\\n",
      "G(50, 1/10) &     5151.67 &     2050.5 &         589.75 &        7332.25 \\\\\n",
      "G(50, 1/5)  &   155839.38 &   149146.5 &      103251.25 &      195761.00 \\\\\n",
      "G(50, 3/10) &   107816.36 &   109894.0 &       86286.75 &      123666.75 \\\\\n",
      "G(50, 1/2)  &     8320.48 &     7953.5 &        6951.50 &        9273.75 \\\\\n",
      "G(50, 7/10) &      436.16 &      432.0 &         361.50 &         487.50 \\\\\n",
      "G(60, 1/10) &   172691.16 &    58640.0 &       25789.50 &      133658.50 \\\\\n",
      "G(60, 1/5)  &  2107943.48 &  1975976.0 &     1568499.50 &     2691828.50 \\\\\n",
      "G(60, 3/10) &   835474.51 &   834159.5 &      680734.50 &      951240.00 \\\\\n",
      "G(60, 1/2)  &    33657.59 &    33152.5 &       27504.25 &       39111.75 \\\\\n",
      "G(60, 7/10) &     1128.78 &     1063.0 &         907.00 &        1241.25 \\\\\n",
      "G(65, 1/10) &   640063.98 &   344424.5 &      126929.50 &      893258.75 \\\\\n",
      "\\bottomrule\n",
      "\\end{tabular}\n",
      "\n"
     ]
    },
    {
     "name": "stderr",
     "output_type": "stream",
     "text": [
      "/tmp/ipykernel_570811/3293683267.py:1: FutureWarning: In future versions `DataFrame.to_latex` is expected to utilise the base implementation of `Styler.to_latex` for formatting and rendering. The arguments signature may therefore change. It is recommended instead to use `DataFrame.style.to_latex` which also contains additional functionality.\n",
      "  print(table.to_latex())\n"
     ]
    }
   ],
   "source": [
    "print(table.to_latex())"
   ]
  }
 ],
 "metadata": {
  "kernelspec": {
   "display_name": "Python 3 (ipykernel)",
   "language": "python",
   "name": "python3"
  },
  "language_info": {
   "codemirror_mode": {
    "name": "ipython",
    "version": 3
   },
   "file_extension": ".py",
   "mimetype": "text/x-python",
   "name": "python",
   "nbconvert_exporter": "python",
   "pygments_lexer": "ipython3",
   "version": "3.11.6"
  }
 },
 "nbformat": 4,
 "nbformat_minor": 5
}
